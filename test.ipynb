{
 "cells": [
  {
   "cell_type": "code",
   "execution_count": 2,
   "metadata": {
    "collapsed": true
   },
   "outputs": [],
   "source": [
    "import pandas as pd\n",
    "import numpy as np\n",
    "import re"
   ]
  },
  {
   "cell_type": "code",
   "execution_count": 3,
   "metadata": {},
   "outputs": [
    {
     "name": "stdout",
     "output_type": "stream",
     "text": [
      "[1, 2, 3, 4, 5, 6, 7, 8, 9]\n"
     ]
    }
   ],
   "source": [
    "hrc_train = pd.read_csv(\"./data/HRC_train.tsv\", sep = \"\\t\", names = [\"id\", \"text\"])\n",
    "print([i for i in range(1, 10)])"
   ]
  },
  {
   "cell_type": "code",
   "execution_count": 8,
   "metadata": {},
   "outputs": [
    {
     "data": {
      "text/plain": [
       "'unclassified u.s. department of state case no. f-2014-20439 doc no. c05778447 date: 08/31/2015 release in part b6 sent: wednesday, december 15, 201011:01 pm subject: h: jamie rubin finally lands. sid the unsigned editorials will appear in all of bloomberg\\'s online and print media properties  including bloomberg businessweek, bloomberg.corn and the nearly 300,000 financial data terminals leased to wall street traders and businesses around the world. it will be run by two distinguished voices: james p. rubin, a former assistant secretary of state under bill clinton, and david shipley, editor of the new york times op-ed page. got december 15, 2010 loomberg to publish editorials by ,iere-:eviy pe.tep.s being mayor of new york city would be a large enough platform for just about anyone. but apparently not for michael r. the mayor\\'s company, 3loomber, ,3 l.p., said on wednesday that it would begin publishing editorials across its vast media enterprise in an effort to broaden the company\\'s influence on national affairs. and though mr. bloomberg has an agreement with the city to have no involvement in the \\\\day-to-day operations\\\\\" of his company, the endeavor, called bloomberg view, is intended to channel his personal philosophy and worldview. \\\\\"i think it\\'s very important that everyone understands that our editorial page is going to be, for sure, consistent with the values and beliefs of the founder  even if he happens to be mayor of new york city,\\\\\" said matthew winkler, the editor in chief of bloomberg news. \\\\\"i fully expect us in our bloomberg view always to reflect those values. in fact, i want people to come away from reading the bloomberg view infused with those beliefs and values.\\\\\" the effort presents a host of conflict-of-interest questions for the mayor. the new venture provides the mayor with yet another potent communications apparatus  one that carries his name and imprimatur  to sound off on issues that collide with his job as mayor, his corporate interests and his expanding philanthropic empire. bloomberg l.p. executives said they would not shy away from publishing editorials on issues in which mr. bloomberg has a direct interest as mayor, like education, public health and environmental policy. mr. winkler said the editorials would not avoid such issues but would disclose the mayor\\'s involvement when warranted. though mr. bloomberg will not have a hand in conceiving and writing the editorials, he is likely to offer feedback from time to time before they are published, mr. winkler said. \\\\\"i think that there\\'s a very good chance that\\'s going to happen,\\\\\" he said, referring to mr. bloomberg\\'s occasional involvement. it is unclear whether that level of involvement is permitted under his agreement with the city to remain at arm\\'s length from the company. a spokesman for the mayor, stu loeser, said the mayor was allowed limited involvement in his agreement with the city. \\\\\"weighing in from time to time is consistent with his being the majority shareholder of the company he founded,\\\\\" he said. as someone whose presidential ambitions are the source of endless speculation, acquiring the platform of an editorial page is certain to draw more attention to mr. bloomberg\\'s plans. (on sunday, mr. bloomberg ruled out a run for president.) the unsigned editorials will appear in all of bloomberg\\'s online and print media properties  including bloomberg businessweek, bloomberg.com and the nearly 300,000 financial data terminals leased to wall street traders and businesses around the world. it will be run by two distinguished voices: james p. rubin, a former assistant secretary of state under bill clinton, and david shipley, editor of the new york times op-ed page. opinion and commentary have not typically been areas of focus for bloomberg, with its just-the-facts approach. in fact, the mayor has complained about the corrosive effect of the 24-hour news cycle and overheated political commentary in the blogosphere. but company leaders, including mr. bloomberg, who has been aware of the project since it was conceived more than two years ago, saw an opportunity to extend their influence. unclassified u.s. department of state case no. f-2014-20439 doc no. c05778447 date: 08/31/2015 unclassified u.s. department of state case no. f-2014-20439 doc no. c05778447 date: 08/31/2015 for a firm that has made no secret of its ambitions to become the most influential media company in the world, starting an editorial operation is the latest effort to propel it beyond its core mission as a financial news service. the notion of media barons using editorials to shape public opinion and policy according to their personal views is an old one in american journalism. william randolph hearst, for example, often wrote front-page editorials for his newspapers. mr. bloomberg, it would seem, is casting himself in that mold, though there are no plans for him to begin writing signed editorials. for now, he is content letting his trusted deputies speak for him. \\\\\"he\\'s accepting and embracing the privilege of a media mogul,\\\\\" said david nasaw, a professor of history at the city university of new york graduate center, who wrote a biography of hearst. \\\\\"this is what we all do. we try to persuade the rest of the world we are right. of course we don\\'t have the vehicles to do so. the rich have the vehicles to do so.\\\\\" mr. winkler said: \\\\\"there\\'s a huge opportunity here for bloomberg l.p. and bloomberg news to seize the day, literally seize the day by bringing wisdom to events as they unfold. and one can\\'t always do that with the best result with reporting.\\\\\" \\\\\"that certainly is a benefit to the founder of the company, the man. but it is also a huge opportunity for bloomberg, the company, that it should take advantage of,\\\\\" mr. winkler added. bloomberg l.p. acquired businessweek last year, giving the 29-year-old company a print product with a long legacy of accomplishment. bloomberg is in the midst of an expansion in washington. with a service called bloomberg government, an operation that will eventually employ 300 journalists and analysts, the company will sell, for $5,700 a year, information about government services and contracts to lobbyists and others with business interests in the nation\\'s capital. unclassified u.s. department of state case no. f-2014-20439 doc no. c05778447 date: 08/31/2015  \"'"
      ]
     },
     "execution_count": 8,
     "metadata": {},
     "output_type": "execute_result"
    }
   ],
   "source": [
    "#this finds the first instance of the text \"doc\"\n",
    "hrc_train.loc[3498, \"text\"]"
   ]
  },
  {
   "cell_type": "code",
   "execution_count": 7,
   "metadata": {},
   "outputs": [
    {
     "data": {
      "text/plain": [
       "['\\\\',\n '\\\\',\n '\\\\',\n '\\\\',\n '\\\\',\n '\\\\',\n '\\\\',\n '\\\\',\n '\\\\',\n '\\\\',\n '\\\\',\n '\\\\',\n '\\\\',\n '\\\\',\n '\\\\',\n '\\\\',\n '\\\\',\n '\\\\']"
      ]
     },
     "execution_count": 7,
     "metadata": {},
     "output_type": "execute_result"
    }
   ],
   "source": [
    "re.findall(r\"[\\\\]\", hrc_train.loc[3498, \"text\"])"
   ]
  },
  {
   "cell_type": "code",
   "execution_count": null,
   "metadata": {},
   "outputs": [],
   "source": [
    "#This finds all instances of all the words in the text\n",
    "for word in set(hrc_train.loc[3498, \"text\"].split()):\n",
    "    indexes = [w.start() for w in re.finditer(word, hrc_train.loc[3498, \"text\"])]\n",
    "    print(word, len(indexes), indexes)"
   ]
  },
  {
   "cell_type": "code",
   "execution_count": null,
   "metadata": {},
   "outputs": [],
   "source": [
    "#Finds all string of a specific text within a string\n",
    "[m.start() for m in re.finditer('re:', hrc_train.loc[3498, \"text\"])]"
   ]
  },
  {
   "cell_type": "code",
   "execution_count": 61,
   "metadata": {},
   "outputs": [
    {
     "data": {
      "text/plain": [
       "['unclassified u.s. department of state',\n 'case no. ............',\n 'doc no. c........',\n 'date: ..........',\n 'state dept. . produced to house select benghazi comm.',\n 'subject to agreement on sensitive information & redactions.',\n 'no foia waiver state...........',\n 'no foia waiver.',\n 'unclassified us department of state']"
      ]
     },
     "execution_count": 61,
     "metadata": {},
     "output_type": "execute_result"
    }
   ],
   "source": [
    "badstrings = [\"unclassified u.s. department of state\", \"case no. ............\", \n",
    "                \"doc no. c........\", \"date: ..........\",\"state dept. . produced to house select benghazi comm.\", \n",
    "                \"subject to agreement on sensitive information & redactions.\",\"no foia waiver state...........\",\n",
    "                \"no foia waiver.\",  \"unclassified us department of state\"]\n",
    "badstrings"
   ]
  },
  {
   "cell_type": "code",
   "execution_count": 111,
   "metadata": {},
   "outputs": [
    {
     "ename": "SyntaxError",
     "evalue": "invalid syntax (<ipython-input-111-c15dd27f8ef7>, line 1)",
     "traceback": [
      "\u001b[0;36m  File \u001b[0;32m\"<ipython-input-111-c15dd27f8ef7>\"\u001b[0;36m, line \u001b[0;32m1\u001b[0m\n\u001b[0;31m    word: [w.start() for w in re.finditer(\"doc\", hrc_train.loc[3498, \"text\"])] for word in hrc_train.loc[3498, \"text\"].split()}\u001b[0m\n\u001b[0m                                                                                 ^\u001b[0m\n\u001b[0;31mSyntaxError\u001b[0m\u001b[0;31m:\u001b[0m invalid syntax\n"
     ],
     "output_type": "error"
    }
   ],
   "source": [
    ""
   ]
  },
  {
   "cell_type": "code",
   "execution_count": 63,
   "metadata": {},
   "outputs": [],
   "source": [
    "def removeBadStrings(oldstrings, rownumber):\n",
    "    try:\n",
    "        j = oldstrings.index(\"sent\")\n",
    "        newstrings = oldstrings[j:]\n",
    "        return newstrings\n",
    "    except ValueError:\n",
    "        print(\"'Sent' not found in row\" + rownumber)\n",
    "        return oldstrings"
   ]
  },
  {
   "cell_type": "code",
   "execution_count": 64,
   "metadata": {},
   "outputs": [],
   "source": [
    "def clean(hrc_data, remove):\n",
    "    hrc_copy = hrc_data.copy()\n",
    "    for i in range(len(hrc_copy)):\n",
    "        newtext = removeBadStrings(hrc_copy.loc[i. \"text\"], i)\n",
    "        hrc_copy.loc[i, \"text\"] = newtext\n",
    "    return hrc_copy"
   ]
  },
  {
   "cell_type": "code",
   "execution_count": 65,
   "metadata": {},
   "outputs": [
    {
     "ename": "TypeError",
     "evalue": "'Index' object is not callable",
     "traceback": [
      "\u001b[0;31m---------------------------------------------------------------------------\u001b[0m",
      "\u001b[0;31mTypeError\u001b[0m                                 Traceback (most recent call last)",
      "\u001b[0;32m<ipython-input-65-08df61a47bfd>\u001b[0m in \u001b[0;36m<module>\u001b[0;34m()\u001b[0m\n\u001b[0;32m----> 1\u001b[0;31m \u001b[0mclean\u001b[0m\u001b[0;34m(\u001b[0m\u001b[0mhrc_train\u001b[0m\u001b[0;34m,\u001b[0m \u001b[0mbadstrings\u001b[0m\u001b[0;34m)\u001b[0m\u001b[0;34m\u001b[0m\u001b[0m\n\u001b[0m",
      "\u001b[0;32m<ipython-input-64-7299130ddd0e>\u001b[0m in \u001b[0;36mclean\u001b[0;34m(hrc_data, remove)\u001b[0m\n\u001b[1;32m      2\u001b[0m     \u001b[0mhrc_copy\u001b[0m \u001b[0;34m=\u001b[0m \u001b[0mhrc_data\u001b[0m\u001b[0;34m.\u001b[0m\u001b[0mcopy\u001b[0m\u001b[0;34m(\u001b[0m\u001b[0;34m)\u001b[0m\u001b[0;34m\u001b[0m\u001b[0m\n\u001b[1;32m      3\u001b[0m     \u001b[0;32mfor\u001b[0m \u001b[0mi\u001b[0m \u001b[0;32min\u001b[0m \u001b[0mrange\u001b[0m\u001b[0;34m(\u001b[0m\u001b[0mlen\u001b[0m\u001b[0;34m(\u001b[0m\u001b[0mhrc_copy\u001b[0m\u001b[0;34m)\u001b[0m\u001b[0;34m)\u001b[0m\u001b[0;34m:\u001b[0m\u001b[0;34m\u001b[0m\u001b[0m\n\u001b[0;32m----> 4\u001b[0;31m         \u001b[0mnewtext\u001b[0m \u001b[0;34m=\u001b[0m \u001b[0mremoveBadStrings\u001b[0m\u001b[0;34m(\u001b[0m\u001b[0mhrc_copy\u001b[0m\u001b[0;34m.\u001b[0m\u001b[0miloc\u001b[0m\u001b[0;34m[\u001b[0m\u001b[0mi\u001b[0m\u001b[0;34m]\u001b[0m\u001b[0;34m,\u001b[0m \u001b[0mi\u001b[0m\u001b[0;34m)\u001b[0m\u001b[0;34m\u001b[0m\u001b[0m\n\u001b[0m\u001b[1;32m      5\u001b[0m         \u001b[0mhrc_copy\u001b[0m\u001b[0;34m.\u001b[0m\u001b[0mloc\u001b[0m\u001b[0;34m[\u001b[0m\u001b[0mi\u001b[0m\u001b[0;34m,\u001b[0m \u001b[0;34m\"text\"\u001b[0m\u001b[0;34m]\u001b[0m \u001b[0;34m=\u001b[0m \u001b[0mnewtext\u001b[0m\u001b[0;34m\u001b[0m\u001b[0m\n\u001b[1;32m      6\u001b[0m     \u001b[0;32mreturn\u001b[0m \u001b[0mhrc_copy\u001b[0m\u001b[0;34m\u001b[0m\u001b[0m\n",
      "\u001b[0;32m<ipython-input-63-26679328ce48>\u001b[0m in \u001b[0;36mremoveBadStrings\u001b[0;34m(oldstrings, rownumber)\u001b[0m\n\u001b[1;32m      1\u001b[0m \u001b[0;32mdef\u001b[0m \u001b[0mremoveBadStrings\u001b[0m\u001b[0;34m(\u001b[0m\u001b[0moldstrings\u001b[0m\u001b[0;34m,\u001b[0m \u001b[0mrownumber\u001b[0m\u001b[0;34m)\u001b[0m\u001b[0;34m:\u001b[0m\u001b[0;34m\u001b[0m\u001b[0m\n\u001b[1;32m      2\u001b[0m     \u001b[0;32mtry\u001b[0m\u001b[0;34m:\u001b[0m\u001b[0;34m\u001b[0m\u001b[0m\n\u001b[0;32m----> 3\u001b[0;31m         \u001b[0mj\u001b[0m \u001b[0;34m=\u001b[0m \u001b[0moldstrings\u001b[0m\u001b[0;34m.\u001b[0m\u001b[0mindex\u001b[0m\u001b[0;34m(\u001b[0m\u001b[0;34m\"sent\"\u001b[0m\u001b[0;34m)\u001b[0m\u001b[0;34m\u001b[0m\u001b[0m\n\u001b[0m\u001b[1;32m      4\u001b[0m         \u001b[0mnewstrings\u001b[0m \u001b[0;34m=\u001b[0m \u001b[0moldstrings\u001b[0m\u001b[0;34m[\u001b[0m\u001b[0mj\u001b[0m\u001b[0;34m:\u001b[0m\u001b[0;34m]\u001b[0m\u001b[0;34m\u001b[0m\u001b[0m\n\u001b[1;32m      5\u001b[0m         \u001b[0;32mreturn\u001b[0m \u001b[0mnewstrings\u001b[0m\u001b[0;34m\u001b[0m\u001b[0m\n",
      "\u001b[0;31mTypeError\u001b[0m: 'Index' object is not callable"
     ],
     "output_type": "error"
    }
   ],
   "source": [
    "clean(hrc_train, badstrings)"
   ]
  },
  {
   "cell_type": "code",
   "execution_count": 24,
   "metadata": {},
   "outputs": [
    {
     "data": {
      "text/plain": [
       "array([4, 5, 6])"
      ]
     },
     "execution_count": 24,
     "metadata": {},
     "output_type": "execute_result"
    }
   ],
   "source": [
    "x[1]"
   ]
  },
  {
   "cell_type": "code",
   "execution_count": 97,
   "metadata": {},
   "outputs": [
    {
     "name": "stdout",
     "output_type": "stream",
     "text": [
      "['truncate', 'hi']\n"
     ]
    }
   ],
   "source": [
    "x = np.zeros(len(hrc_train))\n",
    "print([j for j in [\"truncate\", \"hi\"]])"
   ]
  },
  {
   "cell_type": "code",
   "execution_count": null,
   "metadata": {},
   "outputs": [],
   "source": [
    ""
   ]
  }
 ],
 "metadata": {
  "kernelspec": {
   "display_name": "Python 2",
   "language": "python",
   "name": "python2"
  },
  "language_info": {
   "codemirror_mode": {
    "name": "ipython",
    "version": 2.0
   },
   "file_extension": ".py",
   "mimetype": "text/x-python",
   "name": "python",
   "nbconvert_exporter": "python",
   "pygments_lexer": "ipython2",
   "version": "2.7.6"
  }
 },
 "nbformat": 4,
 "nbformat_minor": 0
}